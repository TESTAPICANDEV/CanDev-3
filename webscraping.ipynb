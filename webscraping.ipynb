{
 "cells": [
  {
   "cell_type": "code",
   "execution_count": 21,
   "metadata": {},
   "outputs": [],
   "source": [
    "# Data manipulation\n",
    "import numpy as np\n",
    "import pandas as pd\n",
    "\n",
    "# Web scraping\n",
    "from selenium import webdriver\n",
    "from selenium.webdriver.support.ui import Select\n",
    "\n",
    "# Other\n",
    "import re\n",
    "import time"
   ]
  },
  {
   "cell_type": "markdown",
   "metadata": {},
   "source": [
    "# Web scraping REGDOCS"
   ]
  },
  {
   "cell_type": "code",
   "execution_count": 2,
   "metadata": {},
   "outputs": [],
   "source": [
    "# Setup chrome driver\n",
    "options = webdriver.ChromeOptions()\n",
    "options.add_argument('--ignore-certificate-errors')\n",
    "options.add_argument('--incognito')\n",
    "options.add_argument('--headless')\n",
    "driver = webdriver.Chrome(\"C:/chromedriver/chromedriver\", options=options)"
   ]
  },
  {
   "cell_type": "code",
   "execution_count": 3,
   "metadata": {},
   "outputs": [],
   "source": [
    "# Get list of all companies\n",
    "def scrapeCompanies():\n",
    "    elems = driver.find_elements_by_tag_name('a')\n",
    "    companies = []\n",
    "\n",
    "    for i in range(len(elems)):\n",
    "        if ('Item/View' in elems[i].get_attribute('href')):\n",
    "            companies.append(elems[i].text)\n",
    "    \n",
    "    return companies"
   ]
  },
  {
   "cell_type": "code",
   "execution_count": 6,
   "metadata": {},
   "outputs": [],
   "source": [
    "# Scrape all companies\n",
    "\n",
    "PATH_REGDOCS = 'https://apps.cer-rec.gc.ca/REGDOCS/Search/Companies'\n",
    "\n",
    "driver.get(PATH_REGDOCS)\n",
    "\n",
    "# Let page load\n",
    "time.sleep(5)\n",
    "\n",
    "# Set list to 200\n",
    "itemsSelect = Select(driver.find_element_by_name('tableResults_length'))\n",
    "itemsSelect.select_by_value('200')\n",
    "time.sleep(5)\n",
    "\n",
    "companies = []\n",
    "\n",
    "for i in range(10):\n",
    "    companies += scrapeCompanies()\n",
    "    \n",
    "    try:\n",
    "        nextButton = driver.find_element_by_class_name('next')\n",
    "        nextButton.click()\n",
    "        time.sleep(5)\n",
    "    except:\n",
    "        break"
   ]
  },
  {
   "cell_type": "code",
   "execution_count": 14,
   "metadata": {},
   "outputs": [],
   "source": [
    "# Save \n",
    "\n",
    "companies_raw_df = pd.DataFrame({'Company': companies})\n",
    "companies_raw_df.to_csv('data/companies_raw.csv')"
   ]
  },
  {
   "cell_type": "code",
   "execution_count": 56,
   "metadata": {},
   "outputs": [],
   "source": [
    "# Preprocess company names\n",
    "\n",
    "companies_preprocess = []\n",
    "\n",
    "for company in companies:\n",
    "    result = ''.join(filter(lambda s: not str.isnumeric(s), company))\n",
    "    result = result.strip()\n",
    "    companies_preprocess.append(result)\n",
    "    \n",
    "# Remove duplicates\n",
    "companies_preprocess = list(set(companies_preprocess))\n",
    "companies_preprocess.sort()\n",
    "    \n",
    "# Save\n",
    "companies_preprocess_df = pd.DataFrame({'Company': companies_preprocess})\n",
    "companies_preprocess_df.to_csv('data/companies.csv')"
   ]
  },
  {
   "cell_type": "code",
   "execution_count": null,
   "metadata": {},
   "outputs": [],
   "source": []
  }
 ],
 "metadata": {
  "kernelspec": {
   "display_name": "Python [conda env:candev-cre]",
   "language": "python",
   "name": "conda-env-candev-cre-py"
  },
  "language_info": {
   "codemirror_mode": {
    "name": "ipython",
    "version": 3
   },
   "file_extension": ".py",
   "mimetype": "text/x-python",
   "name": "python",
   "nbconvert_exporter": "python",
   "pygments_lexer": "ipython3",
   "version": "3.7.6"
  }
 },
 "nbformat": 4,
 "nbformat_minor": 4
}
