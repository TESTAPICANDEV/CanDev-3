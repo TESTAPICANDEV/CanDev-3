{
 "cells": [
  {
   "cell_type": "code",
   "execution_count": 1,
   "metadata": {},
   "outputs": [],
   "source": [
    "# Data processing\n",
    "import numpy as np\n",
    "import pandas as pd\n",
    "pd.options.display.max_columns = None\n",
    "\n",
    "# Graphing\n",
    "import seaborn as sns\n",
    "import matplotlib\n",
    "import matplotlib.pyplot as plt\n",
    "sns.set()\n",
    "%matplotlib inline\n",
    "\n",
    "# NLP\n",
    "import nltk\n",
    "import PyPDF2\n",
    "\n",
    "# Other\n",
    "import os\n",
    "\n",
    "# Display all outputs\n",
    "from IPython.core.interactiveshell import InteractiveShell\n",
    "InteractiveShell.ast_node_interactivity = \"all\""
   ]
  },
  {
   "cell_type": "markdown",
   "metadata": {},
   "source": [
    "# Load PDFs"
   ]
  },
  {
   "cell_type": "code",
   "execution_count": 2,
   "metadata": {},
   "outputs": [],
   "source": [
    "def pdf2Text(filePath):\n",
    "    pdfFileObj = open('data/' + filePath, 'rb')\n",
    "    pdfReader = PyPDF2.PdfFileReader(pdfFileObj)\n",
    "    \n",
    "    text = ''\n",
    "    for i in range(pdfReader.getNumPages()):\n",
    "        text += pdfReader.getPage(i).extractText()\n",
    "    return text"
   ]
  },
  {
   "cell_type": "code",
   "execution_count": 4,
   "metadata": {},
   "outputs": [],
   "source": [
    "companies = pd.read_csv('')\n",
    "\n",
    "files = os.listdir('data/')\n",
    "\n",
    "text = pdf2Text(files[0])"
   ]
  },
  {
   "cell_type": "code",
   "execution_count": 9,
   "metadata": {},
   "outputs": [],
   "source": [
    "text = [s.strip() for s in text.split('\\n')]"
   ]
  },
  {
   "cell_type": "code",
   "execution_count": 10,
   "metadata": {},
   "outputs": [
    {
     "data": {
      "text/plain": [
       "['1 Tracy Holden',\n",
       " 'Technical',\n",
       " 'Manager Tariff &',\n",
       " 'Regulatory',\n",
       " 'tel',\n",
       " '403-699',\n",
       " '-1818',\n",
       " 'fax',\n",
       " '403-767',\n",
       " '-3863',\n",
       " 'tracy.holden',\n",
       " '@enbridge.com',\n",
       " 'Enbridge',\n",
       " '200, 425',\n",
       " 'Œ 1st Street SW',\n",
       " 'Calgary, Alberta  T2P 3L8',\n",
       " 'Canada',\n",
       " 'December 30',\n",
       " ', 2019',\n",
       " 'E-FILE',\n",
       " 'Canada Energy Regulator',\n",
       " 'Suite 210, 517',\n",
       " 'Œ 10th Avenue SW',\n",
       " 'Calgary, AB  T2R 0A8',\n",
       " 'Attention: Louise George, Secretary of the Commission',\n",
       " 'Dear Ms. George',\n",
       " ',  Re:',\n",
       " 'Westcoast Energy Inc., doing business as Spectra Energy',\n",
       " 'Transmission (',\n",
       " 'ﬁWestcoast',\n",
       " 'ﬂ) Amendment to',\n",
       " 'the',\n",
       " 'Westcoast Pipeline Tariff',\n",
       " 'Enclosed for filing with the',\n",
       " 'Canada Energy Regulator',\n",
       " 'pursuant to s',\n",
       " 'ection',\n",
       " '227 of the',\n",
       " 'Canadian',\n",
       " 'Energy Regulator Act',\n",
       " 'is an',\n",
       " 'amendment',\n",
       " 'to Article 11 of Westcoast™s General Terms and',\n",
       " 'Conditions',\n",
       " 'Œ Service.',\n",
       " 'This amendment,',\n",
       " 'which is to take effect',\n",
       " 'December 31',\n",
       " ', 2019, is required to accommodate the',\n",
       " 'Westcoast gas processing plants',\n",
       " 'becoming',\n",
       " 'third party receipt points',\n",
       " 'under the Pipeline Tariff',\n",
       " 'as',\n",
       " 'a result of',\n",
       " 'the',\n",
       " 'ir sale to NorthRiver Midstream Operations LP',\n",
       " '.  The amendment was presented to the Westcoast Toll and Tariff Task force at a meeting on',\n",
       " 'November 21',\n",
       " ', 2019 and no concerns were raised.',\n",
       " 'Attached are clean and black',\n",
       " '-lined copi',\n",
       " 'es of the',\n",
       " 'above noted amendment',\n",
       " '. Sincerely,',\n",
       " 'Tracy Holden',\n",
       " 'Technical Manager Tariff & Regulatory',\n",
       " 'Enclosure',\n",
       " 'cc:  All Shippers on the Westcoast System',\n",
       " 'Westcoast Toll and Tariff Task Force Participants',\n",
       " '']"
      ]
     },
     "execution_count": 10,
     "metadata": {},
     "output_type": "execute_result"
    }
   ],
   "source": [
    "text"
   ]
  }
 ],
 "metadata": {
  "kernelspec": {
   "display_name": "Python [conda env:candev-cre]",
   "language": "python",
   "name": "conda-env-candev-cre-py"
  },
  "language_info": {
   "codemirror_mode": {
    "name": "ipython",
    "version": 3
   },
   "file_extension": ".py",
   "mimetype": "text/x-python",
   "name": "python",
   "nbconvert_exporter": "python",
   "pygments_lexer": "ipython3",
   "version": "3.7.6"
  }
 },
 "nbformat": 4,
 "nbformat_minor": 4
}
