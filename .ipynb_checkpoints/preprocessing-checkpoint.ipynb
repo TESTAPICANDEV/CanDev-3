{
 "cells": [
  {
   "cell_type": "code",
   "execution_count": 1,
   "metadata": {},
   "outputs": [],
   "source": [
    "# Data processing\n",
    "import numpy as np\n",
    "import pandas as pd\n",
    "pd.options.display.max_columns = None\n",
    "\n",
    "# Graphing\n",
    "import seaborn as sns\n",
    "import matplotlib\n",
    "import matplotlib.pyplot as plt\n",
    "sns.set()\n",
    "%matplotlib inline\n",
    "\n",
    "# NLP\n",
    "import nltk\n",
    "import PyPDF2\n",
    "\n",
    "# Other\n",
    "import os\n",
    "\n",
    "# Display all outputs\n",
    "from IPython.core.interactiveshell import InteractiveShell\n",
    "InteractiveShell.ast_node_interactivity = \"all\""
   ]
  },
  {
   "cell_type": "markdown",
   "metadata": {},
   "source": [
    "# Load PDFs"
   ]
  },
  {
   "cell_type": "code",
   "execution_count": 2,
   "metadata": {},
   "outputs": [],
   "source": [
    "def pdf2Text(filePath):\n",
    "    pdfFileObj = open('data/' + filePath, 'rb')\n",
    "    pdfReader = PyPDF2.PdfFileReader(pdfFileObj)\n",
    "    \n",
    "    text = ''\n",
    "    for i in range(pdfReader.getNumPages()):\n",
    "        text += pdfReader.getPage(i).extractText()\n",
    "    return text"
   ]
  },
  {
   "cell_type": "code",
   "execution_count": 3,
   "metadata": {},
   "outputs": [],
   "source": [
    "def preprocess(text):\n",
    "    text = text.replace('\\n', '')\n",
    "    return text"
   ]
  },
  {
   "cell_type": "code",
   "execution_count": null,
   "metadata": {},
   "outputs": [],
   "source": []
  },
  {
   "cell_type": "code",
   "execution_count": 12,
   "metadata": {},
   "outputs": [],
   "source": [
    "files = os.listdir('data/')\n",
    "\n",
    "text = pdf2Text(files[1])"
   ]
  },
  {
   "cell_type": "code",
   "execution_count": 13,
   "metadata": {},
   "outputs": [
    {
     "data": {
      "text/plain": [
       "' \\n \\n \\n \\n \\n \\nEnergy Legal Services\\n \\n300, 801 \\n\\n \\n6 Ave  SW\\n \\nCalgary\\n, Alberta  \\n \\nT2P 3W2\\n \\nTelephone: \\n(\\n403\\n) \\n297\\n \\n-\\n \\n4427\\n \\nEmail:  Colin.King\\n@gov.ab.ca\\n \\n \\n \\nFILED ELECTRONICALLY\\n/\\n \\nORIGINAL BY COURIER\\n \\n \\n \\nJanuary\\n \\n1\\n4\\n, 2020\\n \\n \\n \\nCanad\\na \\nEnergy Regulator \\n \\nSuite\\n \\n210, \\n517 \\nTenth\\n \\nAv\\nenue \\nSW \\n \\nCalgary, A\\nlberta \\nT2\\nR 0A8\\n \\n \\n \\nAttention: \\nMs. L\\n. G\\neorge, Secretary of the Commission of the Canad\\na\\n \\nEnergy Regulator \\n \\n \\nDear\\n \\nMs. George: \\n \\n \\nRe: \\n \\nTransCanada PipeLines Limited\\n \\n(TCPL) \\n \\n \\nApplication for Approval of the Mainline 2021\\n-\\n2026 S\\nettlement (Application)\\n \\n \\n \\nI am providing comments on behalf of the Alberta Departme\\nnt of Energy (ADOE or Alberta) in \\nresponse to the TransCanada PipeLines Limited (TCPL) \\nApplication for approval of a settl\\nement for \\nthe January 1, 2021 to \\nDecember 31, 2026 \\nperiod\\n,\\n \\nregarding tolling and service matters (Settlement)\\n \\nfiled with the Canada Energy Regulator (\\nCER or \\nCommission) on December 20, 2019. \\n \\n \\nAlberta will be directly impacted by this application. Alberta is responsible for\\n \\nthe stewardship of \\nsignificant \\nC\\nrown Energy Resources, including responsibilities for the administration of royalties. As \\nthe owner of a significant crown\\n \\nresource, Alberta has a direct in\\nterest in maintaining the safe, \\nresponsible, fair, economic, and efficient\\n \\ntransportation of natural\\n \\ngas supplies to eastern Canadian \\nmarkets. \\nThe \\nTCPL Mainline has a significant \\nrole in transporting, delivering and commercially \\n\\n \\nThe ADOE has frequently participated in \\nregulatory proceedings regarding\\n \\nthe TCPL Mainline and is an active member of the TransCanada \\nMainline Tolls Task Force (TTF)\\n.\\n \\n \\nThe Settlement i\\ns the result of a fair and open \\nprocess\\n \\nconducted through the TTF\\n,\\n \\nwith all parties \\nhaving reasonable opportunities \\nto have their views consider\\ned,\\n \\nthrough \\nextensive negotiations \\nbetwe\\nen TCPL and interested Mainline \\nstakeholders\\n. \\n \\n \\nThe Settlement addresses a broad range of inter\\n-\\nrelated services and tolling matters on the\\n \\nMainline \\nsystem,\\n \\nand \\nrepresents a balance of interests resulting from compro\\nmises of the diverse\\n \\ninterests and\\n \\npositions of the parties\\n. The \\ncomponents of the Settlement are\\n \\ninextricably linked and \\nthere\\nfor\\ne\\n \\nshould be considered as a package\\n.\\n \\n \\n \\n \\nThe ADOE supports the Settlement as a package, \\nand \\nsubmits \\nthat the resulting tolls are \\njust and \\nreasonable \\nand not unjustly discriminatory. The ADOE believes the Settlement will \\nprovide TCPL \\nand its shippers \\nan opportunity to compete for markets.\\n \\n \\n \\nThe ADOE supports the Application and encourages the Commission\\n \\nto consider and approve it, as\\n \\nfiled, on an expedited basis. \\n \\n \\nPlease contact me if you have any questions\\n. \\n \\n \\nSincerely, \\n \\n \\n<\\noriginal signed by\\n> \\n \\n \\nColin King\\n \\nBarrister and Solicitor \\n \\nAlberta \\nDepartment of \\nJustice \\n\\n \\nEnergy Legal Services \\n \\n \\ncc.\\n \\n \\nBernard Pelletier, Director \\n \\n \\nTransCanada P\\nipeLines Limited \\n \\n \\n \\nEman Tadayoni, Regulatory Project Manager \\n \\n \\nTransCanada PipeLines Limited \\n \\n \\nRosemary Stevens, Director \\n \\n \\nTransCanada PipeLines Limited \\n \\n \\n \\n \\n \\n'"
      ]
     },
     "execution_count": 13,
     "metadata": {},
     "output_type": "execute_result"
    }
   ],
   "source": [
    "text"
   ]
  },
  {
   "cell_type": "code",
   "execution_count": 9,
   "metadata": {},
   "outputs": [
    {
     "data": {
      "text/plain": [
       "\" File OF-Fac-Gas-M182-2019-02 01 13 January 2020  Mr. Naveed Hayder Project Manager Many Islands Pipe Lines (Canada) Limited 6000  1777 Victoria Ave Regina, SK   S4P 4K5 Email nhayder@saskenergy.com   Mr. Darren Janke Director, Emergency Management & Regulatory Affairs Many Islands Pipe Lines (Canada) Limited 600  1777 Victoria Ave Regina, SK   S4P 4K5 Email djanke@saskenergy.com  Mr. Terry Jordan Sr. Legal Counsel Many Islands Pipe Lines (Canada) Limited 1000  1777 Victoria Ave Regina, SK   S4P 4K5  Email tjordan@saskenergy.com    Dear Mr. Hayder, Mr. Janke, and Mr. Jordan:  Many Islands Pipe Lines (Canada) Limited (MIPL(C)L application for the Pierceland Supply Project under s. 58 of the National Energy Board Act Canada Energy Regulator (CER) Information Request (IR) No. 1  In examining evidence submitted in the above-referenced proceeding, the Commission of the CER has found that additional information is required, as set out in the attached IR No. 1.  Please respond on or before 27 January 2020 or contact the CER orally or in writing with a revised date and explanation for extension as soon as possible if not able to respond within this timeframe. Please e-file your written responses and any associated correspondence through the CER's Regulatory Documents link on the CER website (www.cer-rec.gc.ca). For any documents that cannot be e-filed, please fax those to the main CER fax number at     403-292-5503 or toll free at 1-877-288-8803.  Please contact Dylan Adderley, Technical Coordinator at 1-800-899-1265 if you have any questions.  Yours sincerely,  Original signed by S. Wong for   L. George Secretary of the Commission  Attachment \""
      ]
     },
     "execution_count": 9,
     "metadata": {},
     "output_type": "execute_result"
    }
   ],
   "source": []
  },
  {
   "cell_type": "code",
   "execution_count": null,
   "metadata": {},
   "outputs": [],
   "source": []
  }
 ],
 "metadata": {
  "kernelspec": {
   "display_name": "Python [conda env:candev-cre]",
   "language": "python",
   "name": "conda-env-candev-cre-py"
  },
  "language_info": {
   "codemirror_mode": {
    "name": "ipython",
    "version": 3
   },
   "file_extension": ".py",
   "mimetype": "text/x-python",
   "name": "python",
   "nbconvert_exporter": "python",
   "pygments_lexer": "ipython3",
   "version": "3.7.6"
  }
 },
 "nbformat": 4,
 "nbformat_minor": 4
}
